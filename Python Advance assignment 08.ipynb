{
 "cells": [
  {
   "cell_type": "raw",
   "id": "e2a55a1f",
   "metadata": {},
   "source": [
    "Q1. What are the two latest user-defined exception constraints in Python 3.X?"
   ]
  },
  {
   "cell_type": "raw",
   "id": "6c652fa9",
   "metadata": {},
   "source": [
    "ans: Python also provides an exception handling method with the help of try-except.some of the standard exception which are most frequent include indexError,import Error,IOError,Zero Division Error,Type Error,and file not found Error."
   ]
  },
  {
   "cell_type": "code",
   "execution_count": null,
   "id": "6bd31e9d",
   "metadata": {},
   "outputs": [],
   "source": []
  },
  {
   "cell_type": "code",
   "execution_count": null,
   "id": "55860882",
   "metadata": {},
   "outputs": [],
   "source": []
  },
  {
   "cell_type": "raw",
   "id": "87699d44",
   "metadata": {},
   "source": [
    "Q2. How are class-based exceptions that have been raised matched to handlers?"
   ]
  },
  {
   "cell_type": "raw",
   "id": "caa6d551",
   "metadata": {},
   "source": [
    "ans:A class-based Exception can either cancle the current context or allow for resume.Exception are raised using the statement RAISE EXCEPTION and handle using catch in a try control structure. Class based exception can be raised in a any procedures and can be further propagated by any procedures.A common class based and user defined exception in a single programm as shown in divison by zero example."
   ]
  },
  {
   "cell_type": "code",
   "execution_count": 2,
   "id": "1455d358",
   "metadata": {},
   "outputs": [],
   "source": []
  },
  {
   "cell_type": "code",
   "execution_count": null,
   "id": "afcbee65",
   "metadata": {},
   "outputs": [],
   "source": []
  },
  {
   "cell_type": "raw",
   "id": "a0e639bb",
   "metadata": {},
   "source": [
    "Q3. Describe two methods for attaching context information to exception artefacts."
   ]
  },
  {
   "cell_type": "raw",
   "id": "99dcb06a",
   "metadata": {},
   "source": [
    "ans: IMPLICT EXCEPTION CHANGING AND EXCEPTION CHAINING can be done for attaching context information to exception artefacts."
   ]
  },
  {
   "cell_type": "raw",
   "id": "2e030248",
   "metadata": {},
   "source": [
    "PEP proposes three standard attributes on exception instance: the context attributes for implicity chained execeptions,the cause attributes for explicitly chained exception, and the traceback attibutes for the traceback. A new raise...from statement sets the cause attribute. an example to illustrate the context attributs():"
   ]
  },
  {
   "cell_type": "code",
   "execution_count": 12,
   "id": "7868da00",
   "metadata": {},
   "outputs": [],
   "source": [
    "def compute (a,b):\n",
    "    try:\n",
    "        a/b\n",
    "    except Exception as n:\n",
    "        log(exc)\n",
    "        \n",
    "def log(n):\n",
    "    file = open ('logfile.txt')\n",
    "    print(file.n)\n",
    "    file.close()"
   ]
  },
  {
   "cell_type": "code",
   "execution_count": 23,
   "id": "059d7769",
   "metadata": {},
   "outputs": [],
   "source": [
    "class databaseError(Exception):\n",
    "    pass\n",
    "\n",
    "class Filedatabase():\n",
    "    def __init__(self,filename):\n",
    "        try:\n",
    "            self.file = open (filename)\n",
    "            \n",
    "        except IOError as n:\n",
    "            raise databaseError('failed to open')from n"
   ]
  },
  {
   "cell_type": "code",
   "execution_count": 29,
   "id": "87f2b00e",
   "metadata": {},
   "outputs": [],
   "source": [
    "def do_logged(file,work):\n",
    "    try:\n",
    "        work()\n",
    "    except Exception as n:\n",
    "        write_exception(file,n)\n",
    "        raise n\n",
    "        \n",
    "from traceback import format_tb\n",
    "\n",
    "def write_exception(file,n):\n",
    "    ...\n",
    "    type = exc.__class__\n",
    "    message = str(n)\n",
    "    lines = format_tb(n.__traceback__)\n",
    "    file.write('all information')\n",
    "    ..."
   ]
  },
  {
   "cell_type": "code",
   "execution_count": null,
   "id": "ace213c9",
   "metadata": {},
   "outputs": [],
   "source": []
  },
  {
   "cell_type": "code",
   "execution_count": null,
   "id": "24f45685",
   "metadata": {},
   "outputs": [],
   "source": []
  },
  {
   "cell_type": "raw",
   "id": "7b94d468",
   "metadata": {},
   "source": [
    "Q4. Describe two methods for specifying the text of an exception object&#39;s error message."
   ]
  },
  {
   "cell_type": "raw",
   "id": "33740c70",
   "metadata": {},
   "source": [
    "ans: try, except,else and finally in else and finally even in except we can add another try except block to raise an exception that might still come.Basically we can raise an wxception using the except block or using the raise command."
   ]
  },
  {
   "cell_type": "code",
   "execution_count": null,
   "id": "77a7604c",
   "metadata": {},
   "outputs": [],
   "source": []
  },
  {
   "cell_type": "code",
   "execution_count": null,
   "id": "3d1bf216",
   "metadata": {},
   "outputs": [],
   "source": []
  },
  {
   "cell_type": "raw",
   "id": "03ad6f39",
   "metadata": {},
   "source": [
    "Q5. Why do you no longer use string-based exceptions?"
   ]
  },
  {
   "cell_type": "raw",
   "id": "03e982d7",
   "metadata": {},
   "source": [
    "ans: according to recent updates the standard exception are python classes, and few new standard exception have been added.the obsulate Access Error exception has been deleted.Because it is possible that this change broke existing code, the python interpreter can be invoked the command line option-X to disable this feature, and use string exception like before.this option is temporary measure- eventually the string based standard exceptios will be removed from the language altogether. it hasnt been decided whether user defined string exceptions will be allowed in python 2.0."
   ]
  },
  {
   "cell_type": "code",
   "execution_count": null,
   "id": "b75d8d7b",
   "metadata": {},
   "outputs": [],
   "source": []
  },
  {
   "cell_type": "code",
   "execution_count": null,
   "id": "49ca10fb",
   "metadata": {},
   "outputs": [],
   "source": []
  }
 ],
 "metadata": {
  "kernelspec": {
   "display_name": "Python 3",
   "language": "python",
   "name": "python3"
  },
  "language_info": {
   "codemirror_mode": {
    "name": "ipython",
    "version": 3
   },
   "file_extension": ".py",
   "mimetype": "text/x-python",
   "name": "python",
   "nbconvert_exporter": "python",
   "pygments_lexer": "ipython3",
   "version": "3.8.8"
  }
 },
 "nbformat": 4,
 "nbformat_minor": 5
}
